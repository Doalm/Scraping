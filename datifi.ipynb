{
 "cells": [
  {
   "cell_type": "code",
   "execution_count": 2,
   "metadata": {},
   "outputs": [],
   "source": [
    "import requests\n",
    "from bs4 import BeautifulSoup\n",
    "import time"
   ]
  },
  {
   "cell_type": "code",
   "execution_count": 3,
   "metadata": {},
   "outputs": [],
   "source": [
    "\n",
    "my_header = {\"user-agent\": \"agent\"}\n",
    "link = 'https://www.dafiti.com.co/nike/'\n",
    "\n",
    "r = requests.get(link, headers = my_header)\n",
    "soup = BeautifulSoup(r.text, \"lxml\")"
   ]
  },
  {
   "cell_type": "code",
   "execution_count": 4,
   "metadata": {},
   "outputs": [],
   "source": [
    "articulos =soup.find_all('div',{'class':'itm-product-main-info main-card'} )"
   ]
  },
  {
   "cell_type": "code",
   "execution_count": null,
   "metadata": {},
   "outputs": [],
   "source": [
    "print(articulos)"
   ]
  },
  {
   "cell_type": "code",
   "execution_count": null,
   "metadata": {},
   "outputs": [],
   "source": [
    "articulo = soup.find_all('div',{'class':'itm-product-main-info main-card'})\n",
    "print(articulo)"
   ]
  },
  {
   "cell_type": "code",
   "execution_count": 7,
   "metadata": {},
   "outputs": [
    {
     "name": "stdout",
     "output_type": "stream",
     "text": [
      "Nike\n"
     ]
    }
   ],
   "source": [
    "marca = articulos[0].find('p', {'class':'itm-brand title'}).text\n",
    "print(marca)"
   ]
  },
  {
   "cell_type": "code",
   "execution_count": 8,
   "metadata": {},
   "outputs": [
    {
     "name": "stdout",
     "output_type": "stream",
     "text": [
      "Tenis Negro-Blanco Nike Air Max Excee\n"
     ]
    }
   ],
   "source": [
    "titulo = articulos[0].find('p', {'class':'itm-title description'}).text\n",
    "print(titulo)"
   ]
  },
  {
   "cell_type": "code",
   "execution_count": 9,
   "metadata": {},
   "outputs": [
    {
     "name": "stdout",
     "output_type": "stream",
     "text": [
      "$ 674.900\n"
     ]
    }
   ],
   "source": [
    "precio = articulos[0].find('span', class_=\"price-prefix-listing special itm-price special original-price\").text\n",
    "precio = precio.replace(\"\\n\",\"\")\n",
    "precio = precio.replace(\" \",\"\")\n",
    "print(precio)"
   ]
  },
  {
   "cell_type": "code",
   "execution_count": 10,
   "metadata": {},
   "outputs": [
    {
     "name": "stdout",
     "output_type": "stream",
     "text": [
      "$ 443.900\n"
     ]
    }
   ],
   "source": [
    "precio_descont = articulos[43].find('span', class_=\"discount-price\").text.replace(\"\\n\",\"\").replace(\" \", \"\")\n",
    "print(precio_descont)\n"
   ]
  },
  {
   "cell_type": "code",
   "execution_count": 11,
   "metadata": {},
   "outputs": [
    {
     "name": "stdout",
     "output_type": "stream",
     "text": [
      "-31%\n"
     ]
    }
   ],
   "source": [
    "porcentaje =  articulos[0].find('div', class_=\"card-footer card-footer-ab\").text.replace(\"\\n\",\"\").replace(\" \", \"\")\n",
    "print(porcentaje)"
   ]
  },
  {
   "cell_type": "code",
   "execution_count": 12,
   "metadata": {},
   "outputs": [
    {
     "name": "stdout",
     "output_type": "stream",
     "text": [
      "el item numero 48 ha sido scrapeado con exito\r"
     ]
    }
   ],
   "source": [
    "lista_total_articulos =[]\n",
    "contador = 0\n",
    "for i in articulos:\n",
    "    porcentaje =  i.find('div', class_=\"card-footer card-footer-ab\").text.replace(\"\\n\",\"\").replace(\" \", \"\")\n",
    "    #if porcentaje ==\" \":\n",
    "     #   porcentaje = 0\n",
    "    precio_descont = i.find('span', class_=\"discount-price\").text.replace(\"\\xa0\",'').replace(\"\\n\",\"\").replace(\" \", \"\")\n",
    "    titulo = i.find('p', {'class':'itm-title description'}).text\n",
    "    marca = i.find('p', {'class':'itm-brand title'}).text\n",
    "    #print(f\"marca {marca} | titulo {titulo} | precio_descont {precio_descont} | porcentaje {porcentaje}\")\n",
    "    #time.sleep(3)\n",
    "    diccionario_temporal = {\n",
    "        'marca' : marca,\n",
    "        'titulo' : titulo,\n",
    "        'precio_descont' : precio_descont,\n",
    "        'porcentaje' : porcentaje,\n",
    "\n",
    "    }\n",
    "    lista_total_articulos.append(diccionario_temporal)\n",
    "    contador +=1\n",
    "    print(f\"el item numero {contador} ha sido scrapeado con exito\", end='\\r')\n",
    "    \n",
    "    time.sleep(.5)"
   ]
  },
  {
   "cell_type": "code",
   "execution_count": 13,
   "metadata": {},
   "outputs": [
    {
     "name": "stdout",
     "output_type": "stream",
     "text": [
      "[{'marca': 'Nike', 'titulo': 'Tenis Negro-Blanco Nike Air Max Excee', 'precio_descont': '$463.900', 'porcentaje': '-31%'}, {'marca': 'Nike', 'titulo': 'Tenis Lifestyle Negro-Blanco Nike Court Legacy Canvas', 'precio_descont': '$332.900', 'porcentaje': '-21%'}, {'marca': 'Nike', 'titulo': 'Tenis Negro Nike COURT LEGACY CNVS', 'precio_descont': '$419.900', 'porcentaje': ''}, {'marca': 'Nike', 'titulo': 'Tenis Running Verde-Blanco Nike Downshifter 11', 'precio_descont': '$299.900', 'porcentaje': '-25%'}, {'marca': 'Nike', 'titulo': 'Tenis Running Negro Multicolor Nike Revolution 6 NN', 'precio_descont': '$279.900', 'porcentaje': '-30%'}, {'marca': 'Nike', 'titulo': 'Tenis Running Rosa-Rojo-Blanco Nike Revolution 6 NN', 'precio_descont': '$303.900', 'porcentaje': '-24%'}, {'marca': 'Nike', 'titulo': 'Tenis Training Negro-Lila-Violeta-Blanco Nike Legend Essential 2', 'precio_descont': '$299.900', 'porcentaje': '-35%'}, {'marca': 'Nike', 'titulo': 'Tenis Training Negro-Gris-Blanco Nike City Rep TR', 'precio_descont': '$326.900', 'porcentaje': '-29%'}, {'marca': 'Nike', 'titulo': 'Tenis Running Negro-Blanco Nike Revolution 6 Next Nature', 'precio_descont': '$295.900', 'porcentaje': '-26%'}, {'marca': 'Nike', 'titulo': 'Tenis Lifestyle Negro-Blanco Nike Tanjun', 'precio_descont': '$353.900', 'porcentaje': '-29%'}, {'marca': 'Nike', 'titulo': 'Tenis Lifestyle Gris Nike COURT LEGACY CNVS', 'precio_descont': '$233.900', 'porcentaje': '-29%'}, {'marca': 'Nike', 'titulo': 'Tenis Lifestyle Rosa-Marfil-Blanco Nike Court Legacy Canvas', 'precio_descont': '$273.900', 'porcentaje': '-24%'}, {'marca': 'Nike', 'titulo': 'Tenis Lifestyle Negro-Blanco Nike Court Royale 2 NN', 'precio_descont': '$299.900', 'porcentaje': '-27%'}, {'marca': 'Nike', 'titulo': 'Tula Gris-Negro Nike', 'precio_descont': '$87.900', 'porcentaje': '-32%'}, {'marca': 'Nike', 'titulo': 'Lifestyle Blanco-Coral Nike Court Legacy Canvas', 'precio_descont': '$230.900', 'porcentaje': '-30%'}, {'marca': 'Nike', 'titulo': 'Tenis Lifestyle Blanco-Negro Nike Court Legacy Canvas', 'precio_descont': '$232.900', 'porcentaje': '-35%'}, {'marca': 'Nike', 'titulo': 'Tenis Lifestyle Blanco-Negro Nike Court Royale 2 NN', 'precio_descont': '$388.900', 'porcentaje': '-5%'}, {'marca': 'Nike', 'titulo': 'Tenis Lifestyle Blanco-Verde-Rojo-Beige Nike GTS 97', 'precio_descont': '$299.900', 'porcentaje': '-35%'}, {'marca': 'Nike', 'titulo': 'Tula Negro-Blanco Nike', 'precio_descont': '$87.900', 'porcentaje': '-32%'}, {'marca': 'Nike', 'titulo': 'Tenis Training Negro-Azul-Blanco Nike Legend Essential 2', 'precio_descont': '$299.900', 'porcentaje': '-35%'}, {'marca': 'Nike', 'titulo': 'Tenis Lifestyle Marfil-Vinotinto-Negro Nike Court Vision MID NN', 'precio_descont': '$490.900', 'porcentaje': '-12%'}, {'marca': 'Nike', 'titulo': 'Tenis Lifestyle Beige-Blanco Nike Blazer Low Platform', 'precio_descont': '$584.900', 'porcentaje': '-10%'}, {'marca': 'Nike', 'titulo': \"Tenis Lifestyle Blanco-Negro-Gris Nike Blazer Low '77\", 'precio_descont': '$525.900', 'porcentaje': '-14%'}, {'marca': 'Nike', 'titulo': 'Tenis Training Negro-Blanco-Gris Nike Metcon 8', 'precio_descont': '$729.900', 'porcentaje': '-15%'}, {'marca': 'Nike', 'titulo': 'Tenis Negro-Blanco Nike Team Hustle D 10 Flyease', 'precio_descont': '$425.000', 'porcentaje': ''}, {'marca': 'Nike', 'titulo': 'Tenis Training Verde-Blanco-Café Nike Free Metcon 4', 'precio_descont': '$569.900', 'porcentaje': '-20%'}, {'marca': 'Nike', 'titulo': 'TENIS NIKE HOMBRE COURT VISION DH2987-101', 'precio_descont': '$347.920', 'porcentaje': '-20%'}, {'marca': 'Nike', 'titulo': \"Tenis Hombre Nike Air Force 1 '07 B/W\", 'precio_descont': '$636.950', 'porcentaje': '-23%'}, {'marca': 'Nike', 'titulo': 'Tenis Lifestyle Negro-Blanco-Gris Nike Waffle One', 'precio_descont': '$663.900', 'porcentaje': '-5%'}, {'marca': 'Nike', 'titulo': \"Tenis Lifestyle Blanco-Verde-Gris Nike Blazer Low '77\", 'precio_descont': '$525.900', 'porcentaje': '-14%'}, {'marca': 'Nike', 'titulo': 'Tenis Basketball Blanco-Negro-Naranja Nike Air Max Impact 4', 'precio_descont': '$566.900', 'porcentaje': '-10%'}, {'marca': 'Nike', 'titulo': 'Tenis Lifestyle Multicolor Nike Series 06', 'precio_descont': '$505.900', 'porcentaje': '-14%'}, {'marca': 'Nike', 'titulo': 'TENIS NIKE HOMBRE COURT VINTAGE', 'precio_descont': '$223.930', 'porcentaje': '-30%'}, {'marca': 'Nike', 'titulo': 'Camiseta Azul-Dorado Nike Francia', 'precio_descont': '$492.900', 'porcentaje': '-5%'}, {'marca': 'Nike', 'titulo': 'Tenis Lifestyle Blanco Nike Court Vision Lo Cnvs Nn', 'precio_descont': '$319.900', 'porcentaje': '-35%'}, {'marca': 'Nike', 'titulo': 'Tenis Lifestyle Blanco-Negro-Verde Nike Air Max SC', 'precio_descont': '$469.900', 'porcentaje': '-16%'}, {'marca': 'Nike', 'titulo': 'Tenis Blanco-Negro-Rojo Nike Renew Elevate 3', 'precio_descont': '$700.000', 'porcentaje': ''}, {'marca': 'Nike', 'titulo': 'TENIS NIKE MUJER     COURT VISION', 'precio_descont': '$464.900', 'porcentaje': ''}, {'marca': 'Nike', 'titulo': 'Tenis Lifestyle Blanco-Gris Nike Nike Air Max Excee', 'precio_descont': '$581.900', 'porcentaje': '-14%'}, {'marca': 'Nike', 'titulo': 'Tenis Lifestyle Negro Nike Air Max SC', 'precio_descont': '$467.900', 'porcentaje': '-16%'}, {'marca': 'Nike', 'titulo': 'Tenis Training Blanco-Azul-Verde Menta Nike Nike City Rep TR', 'precio_descont': '$369.900', 'porcentaje': '-20%'}, {'marca': 'Nike', 'titulo': 'Tenis Hombre Nike Waffle Trainer 2 Special Edition', 'precio_descont': '$670.950', 'porcentaje': ''}, {'marca': 'Nike', 'titulo': 'Tenis Blanco Nike Court Vision Low Next Nature', 'precio_descont': '$351.900', 'porcentaje': '-20%'}, {'marca': 'Nike', 'titulo': 'Tenis Lifestyle Marfil-Azul-Verde Nike Air Max SC', 'precio_descont': '$443.900', 'porcentaje': '-18%'}, {'marca': 'Nike', 'titulo': 'Tenis Training Negro-Blanco-Amarillo Nike Air Zoom SuperRep 3', 'precio_descont': '$671.900', 'porcentaje': '-19%'}, {'marca': 'Nike', 'titulo': \"Tenis Lifestyle Blanco-Negro-Amarillo Neón Nike Blazer Low '77 Jumbo\", 'precio_descont': '$559.900', 'porcentaje': '-14%'}, {'marca': 'Nike', 'titulo': 'Conjunto Deportivo Negro-Blanco Nike Dri-FIT Park 20', 'precio_descont': '$319.900', 'porcentaje': '-16%'}, {'marca': 'Nike', 'titulo': 'Tenis Lifestyle Blanco-Negro-Coral Nike Air Max Excee', 'precio_descont': '$595.900', 'porcentaje': '-12%'}]\n"
     ]
    }
   ],
   "source": [
    "print(lista_total_articulos)"
   ]
  },
  {
   "cell_type": "code",
   "execution_count": 14,
   "metadata": {},
   "outputs": [
    {
     "ename": "AttributeError",
     "evalue": "ResultSet object has no attribute 'find'. You're probably treating a list of elements like a single element. Did you call find_all() when you meant to call find()?",
     "output_type": "error",
     "traceback": [
      "\u001b[1;31m---------------------------------------------------------------------------\u001b[0m",
      "\u001b[1;31mAttributeError\u001b[0m                            Traceback (most recent call last)",
      "Cell \u001b[1;32mIn [14], line 1\u001b[0m\n\u001b[1;32m----> 1\u001b[0m pruebas \u001b[39m=\u001b[39m articulos\u001b[39m.\u001b[39;49mfind(\u001b[39m'\u001b[39m\u001b[39minput\u001b[39m\u001b[39m'\u001b[39m, class_\u001b[39m=\u001b[39m\u001b[39m\"\u001b[39m\u001b[39msel-search-input\u001b[39m\u001b[39m\"\u001b[39m)\u001b[39m.\u001b[39mtext\n\u001b[0;32m      2\u001b[0m \u001b[39mprint\u001b[39m(pruebas)\n",
      "File \u001b[1;32mc:\\Program Files\\Python39\\lib\\site-packages\\bs4\\element.py:2173\u001b[0m, in \u001b[0;36mResultSet.__getattr__\u001b[1;34m(self, key)\u001b[0m\n\u001b[0;32m   2171\u001b[0m \u001b[39mdef\u001b[39;00m \u001b[39m__getattr__\u001b[39m(\u001b[39mself\u001b[39m, key):\n\u001b[0;32m   2172\u001b[0m     \u001b[39m\"\"\"Raise a helpful exception to explain a common code fix.\"\"\"\u001b[39;00m\n\u001b[1;32m-> 2173\u001b[0m     \u001b[39mraise\u001b[39;00m \u001b[39mAttributeError\u001b[39;00m(\n\u001b[0;32m   2174\u001b[0m         \u001b[39m\"\u001b[39m\u001b[39mResultSet object has no attribute \u001b[39m\u001b[39m'\u001b[39m\u001b[39m%s\u001b[39;00m\u001b[39m'\u001b[39m\u001b[39m. You\u001b[39m\u001b[39m'\u001b[39m\u001b[39mre probably treating a list of elements like a single element. Did you call find_all() when you meant to call find()?\u001b[39m\u001b[39m\"\u001b[39m \u001b[39m%\u001b[39m key\n\u001b[0;32m   2175\u001b[0m     )\n",
      "\u001b[1;31mAttributeError\u001b[0m: ResultSet object has no attribute 'find'. You're probably treating a list of elements like a single element. Did you call find_all() when you meant to call find()?"
     ]
    }
   ],
   "source": [
    "pruebas = articulos.find('input', class_=\"sel-search-input\").text\n",
    "print(pruebas)"
   ]
  }
 ],
 "metadata": {
  "kernelspec": {
   "display_name": "Python 3.9.6 64-bit",
   "language": "python",
   "name": "python3"
  },
  "language_info": {
   "codemirror_mode": {
    "name": "ipython",
    "version": 3
   },
   "file_extension": ".py",
   "mimetype": "text/x-python",
   "name": "python",
   "nbconvert_exporter": "python",
   "pygments_lexer": "ipython3",
   "version": "3.9.6"
  },
  "orig_nbformat": 4,
  "vscode": {
   "interpreter": {
    "hash": "11938c6bc6919ae2720b4d5011047913343b08a43b18698fd82dedb0d4417594"
   }
  }
 },
 "nbformat": 4,
 "nbformat_minor": 2
}
