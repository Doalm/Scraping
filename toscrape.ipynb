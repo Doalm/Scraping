{
 "cells": [
  {
   "cell_type": "code",
   "execution_count": 14,
   "metadata": {},
   "outputs": [],
   "source": [
    "import requests\n",
    "from bs4 import BeautifulSoup\n",
    "import time"
   ]
  },
  {
   "cell_type": "code",
   "execution_count": 27,
   "metadata": {},
   "outputs": [
    {
     "name": "stdout",
     "output_type": "stream",
     "text": [
      "La Pagina #50 ha sido scrapeado exitosamentete\r"
     ]
    }
   ],
   "source": [
    "# my user agent\n",
    "lista_total_articulos = []\n",
    "for page in range(1,51):\n",
    "\n",
    "    my_header = {'user-agent':'agent'}\n",
    "    r = requests.get(f'http://books.toscrape.com/catalogue/page-{page}.html',headers=my_header)\n",
    "    \n",
    "\n",
    "    soup = BeautifulSoup(r.text,'html.parser')\n",
    "\n",
    "    articulos = soup.find_all('article', {'class':'product_pod'})\n",
    "\n",
    "    \n",
    "    contador = 0\n",
    "    for i in articulos:\n",
    "        titulo = i.find('h3').find('a')['title']\n",
    "        precio = i.find('p', {'class':'price_color'}).text.replace('Â','')\n",
    "        stock = i.find('p', {'class':'instock'}).text.replace('\\n','').strip()\n",
    "        estrellas = i.find('p', {'class':'star-rating'})['class'][1]\n",
    "        link = i.find('h3').find('a')['href']\n",
    "\n",
    "        # print(f'titulo = {titulo} | precio = {precio} | stock = {stock} | estrellas = {estrellas} | link = {link}')\n",
    "        diccionario_articulo_temporal = {\n",
    "                'titulo' : titulo,\n",
    "                'precio' : precio,\n",
    "                'stock' : stock,\n",
    "                'estrellas' : estrellas,\n",
    "                'link' : link,\n",
    "            }\n",
    "        lista_total_articulos.append(diccionario_articulo_temporal)\n",
    "        contador +=1\n",
    "        print(f'El articulo #{contador} ha sido scrapeado exitosamente', end = '\\r')\n",
    "            # time.sleep(0.3)\n",
    "    print(f'La Pagina #{page} ha sido scrapeado exitosamente', end = '\\r')    # time.sleep(1)"
   ]
  },
  {
   "cell_type": "code",
   "execution_count": null,
   "metadata": {},
   "outputs": [],
   "source": [
    "print(lista_total_articulos)"
   ]
  }
 ],
 "metadata": {
  "kernelspec": {
   "display_name": "Python 3.9.6 64-bit",
   "language": "python",
   "name": "python3"
  },
  "language_info": {
   "codemirror_mode": {
    "name": "ipython",
    "version": 3
   },
   "file_extension": ".py",
   "mimetype": "text/x-python",
   "name": "python",
   "nbconvert_exporter": "python",
   "pygments_lexer": "ipython3",
   "version": "3.9.6"
  },
  "orig_nbformat": 4,
  "vscode": {
   "interpreter": {
    "hash": "11938c6bc6919ae2720b4d5011047913343b08a43b18698fd82dedb0d4417594"
   }
  }
 },
 "nbformat": 4,
 "nbformat_minor": 2
}
